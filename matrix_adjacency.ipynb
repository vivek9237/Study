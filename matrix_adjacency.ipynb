{
 "cells": [
  {
   "cell_type": "code",
   "execution_count": 48,
   "metadata": {},
   "outputs": [],
   "source": [
    "import sys\n",
    "m=sys.maxint\n",
    "array = [[3,1,3,4],\n",
    "        [9,7,1,9],\n",
    "        [m,m,1,6],\n",
    "        [m,m,1,0]]\n",
    "array_total_size = len(array)*len(array[0])\n",
    "array_col_len = len(array[0])\n",
    "array_row_len = len(array)"
   ]
  },
  {
   "cell_type": "code",
   "execution_count": 45,
   "metadata": {},
   "outputs": [],
   "source": [
    "def get_down(num):\n",
    "    i=get_row_from_node(num)\n",
    "    j=get_column_from_node(num)\n",
    "    if(array[i][j]>1000):\n",
    "        return\n",
    "    \n",
    "    down = num + array_col_len\n",
    "    i=get_row_from_node(down)\n",
    "    j=get_column_from_node(down)\n",
    "    if(down<aMat and array[i][j]<1001):\n",
    "        print str(num)+\",\"+str(down)+\",\"+str(array[i][j])\n",
    "\n",
    "def get_up(num):\n",
    "    i=get_row_from_node(num)\n",
    "    j=get_column_from_node(num)\n",
    "    if(array[i][j]>1000):\n",
    "        return\n",
    "    \n",
    "    up = num - array_col_len\n",
    "    i=get_row_from_node(up)\n",
    "    j=get_column_from_node(up)\n",
    "    if(up>=0 and array[i][j]<1001):\n",
    "        print str(num)+\",\"+str(up)+\",\"+str(array[i][j])\n",
    "    \n",
    "\n",
    "def get_right(num):\n",
    "    i=get_row_from_node(num)\n",
    "    j=get_column_from_node(num)\n",
    "    if(array[i][j]>1000):\n",
    "        return\n",
    "    \n",
    "    right = num+1\n",
    "    i=get_row_from_node(right)\n",
    "    j=get_column_from_node(right)\n",
    "    if(right%aMat!=0 and array[i][j]<1001):\n",
    "        print str(num)+\",\"+str(right)+\",\"+str(array[i][j])\n",
    "\n",
    "def get_left(num):\n",
    "    i=get_row_from_node(num)\n",
    "    j=get_column_from_node(num)\n",
    "    if(array[i][j]>1000):\n",
    "        return\n",
    "    \n",
    "    left = num-1\n",
    "    i=get_row_from_node(left)\n",
    "    j=get_column_from_node(left)\n",
    "    if(left+1%aMat!=0 and array[i][j]<1001):\n",
    "        print str(num)+\",\"+str(left)+\",\"+str(array[i][j])\n",
    "\n",
    "\n",
    "def get_column_from_node(node):\n",
    "    return node%array_col_len\n",
    "def get_row_from_node(node):\n",
    "    return node/array_col_len\n",
    "def get_node(row_num,col_num):\n",
    "    return (array_col_len*row_num)+col_num"
   ]
  },
  {
   "cell_type": "code",
   "execution_count": 49,
   "metadata": {},
   "outputs": [
    {
     "name": "stdout",
     "output_type": "stream",
     "text": [
      "0,4,9\n",
      "0,1,1\n",
      "1,5,7\n",
      "1,0,3\n",
      "1,2,3\n",
      "2,6,1\n",
      "2,1,1\n",
      "2,3,4\n",
      "3,7,9\n",
      "3,2,3\n",
      "3,4,9\n",
      "4,3,4\n",
      "4,0,3\n",
      "4,5,7\n",
      "5,4,9\n",
      "5,1,1\n",
      "5,6,1\n",
      "6,10,1\n",
      "6,5,7\n",
      "6,2,3\n",
      "6,7,9\n",
      "7,11,6\n",
      "7,6,1\n",
      "7,3,4\n",
      "10,14,1\n",
      "10,6,1\n",
      "10,11,6\n",
      "11,15,0\n",
      "11,10,1\n",
      "11,7,9\n",
      "14,10,1\n",
      "14,15,0\n",
      "15,14,1\n",
      "15,11,6\n"
     ]
    }
   ],
   "source": [
    "i=0\n",
    "while(i<len(array)):\n",
    "    j=0\n",
    "    while(j<len(array[0])):\n",
    "        node = get_node(i,j)\n",
    "        get_down(node)\n",
    "        get_left(node)\n",
    "        get_up(node)\n",
    "        get_right(node)\n",
    "        j+=1\n",
    "    i+=1"
   ]
  },
  {
   "cell_type": "code",
   "execution_count": 21,
   "metadata": {},
   "outputs": [],
   "source": [
    "\n"
   ]
  },
  {
   "cell_type": "code",
   "execution_count": null,
   "metadata": {},
   "outputs": [],
   "source": []
  }
 ],
 "metadata": {
  "kernelspec": {
   "display_name": "Python 2",
   "language": "python",
   "name": "python2"
  },
  "language_info": {
   "codemirror_mode": {
    "name": "ipython",
    "version": 2
   },
   "file_extension": ".py",
   "mimetype": "text/x-python",
   "name": "python",
   "nbconvert_exporter": "python",
   "pygments_lexer": "ipython2",
   "version": "2.7.11"
  }
 },
 "nbformat": 4,
 "nbformat_minor": 2
}
